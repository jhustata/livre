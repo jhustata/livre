{
 "cells": [
  {
   "attachments": {},
   "cell_type": "markdown",
   "metadata": {},
   "source": [
    "# 4. Advanced file management\n",
    "\n",
    "Is there anything wrong with this code block?\n",
    "\n",
    "```stata\n",
    "program define myprogram\n",
    "quietly {\n",
    "forvalues i=1/10 {\n",
    "if `i' < 5 {\n",
    "noisily disp \"`i' is less than five\" }\n",
    "else {\n",
    "noisily disp \"`i' is at least five\" }\n",
    "}\n",
    "} end\n",
    "```"
   ]
  },
  {
   "attachments": {},
   "cell_type": "markdown",
   "metadata": {},
   "source": [
    "General programming practices\n",
    "\n",
    "+ indent your code \n",
    "   + or copy & paste into chatGPT, which will most certainly indent the code\n",
    "   + code is much easier to read if indented\n",
    "   + mycg easier to see and prevent errors\n",
    "   + easier to debug\n",
    "   + you'll find it easier to modify\n",
    "\n",
    "+ test, test, test\n",
    "   + iterate, iterate, iterate\n",
    "\n",
    "+ collaborate, collaborate, collaborate\n",
    "   + share, share, share"
   ]
  },
  {
   "attachments": {},
   "cell_type": "markdown",
   "metadata": {},
   "source": [
    "## 4.1 by \n",
    "\n",
    "Have you seen this syntax before?\n",
    "\n",
    "```stata\n",
    "gen record_no = _n //row number \n",
    "disp _N //total # rows\n",
    "```\n",
    "\n",
    "What if we want a variable of the total number of records in each ABO blood type category?\n",
    "\n",
    "```stata\n",
    "sort abo\n",
    "by abo: gen cat_n = _N\n",
    "```\n",
    "\n",
    "Which creates a variable cat_n storing the number of records in each abo category\n",
    "\n",
    "```stata\n",
    "sort abo age\n",
    "by abo: gen cat_id = _n\n",
    "```\n",
    "\n",
    "Which creates a variable `cat_id` which is 1 for the youngest patient in each category, 2 for the\n",
    "next youngest, etc.\n",
    "\n",
    "You can combine the `sort` and the `by` into `bysort` (or just `bys`)\n",
    "\n",
    "\n",
    "```"
   ]
  },
  {
   "attachments": {},
   "cell_type": "markdown",
   "metadata": {},
   "source": [
    "## 4.2 egen  \n",
    "\n",
    "We can create a new variable equal to the mean of all records...\n",
    "\n",
    "```stata\n",
    "use transplants, clear\n",
    "sum age\n",
    "gen mean_age = r(mean)\n",
    "```\n",
    "\n",
    "...but how can we do that with just one command?\n",
    "\n",
    "```stata\n",
    "use transplants, clear \n",
    "egen mean_age = mean(age)\n",
    "```"
   ]
  },
  {
   "attachments": {},
   "cell_type": "markdown",
   "metadata": {},
   "source": [
    "More valid egen commands:\n",
    "\n",
    "```stata\n",
    "egen median_age = median(age) egen max_age = max(age)\n",
    "egen min_age = min(age)\n",
    "egen age_q1 = pctile(age), p(25) egen age_sd = sd(age)\n",
    "egen total_prev = sum(prev)\n",
    "```"
   ]
  },
  {
   "attachments": {},
   "cell_type": "markdown",
   "metadata": {},
   "source": [
    "So what's the big deal? Suppose we want the mean age, stratified by diagnosis? First, we sort on diagnosis\n",
    "\n",
    "```stata\n",
    "use transplants, clear \n",
    "sort dx\n",
    "```\n",
    "\n",
    "Now we do `by dx: egen`\n",
    "\n",
    "```stata\n",
    "by dx: egen mean_age = mean(age)\n",
    "by dx: egen min_bmi = min(bmi) \n",
    "```\n",
    "\n",
    "Or we can use `bysort`"
   ]
  }
 ],
 "metadata": {
  "kernelspec": {
   "display_name": "Python 3",
   "language": "python",
   "name": "python3"
  },
  "language_info": {
   "codemirror_mode": {
    "name": "ipython",
    "version": 3
   },
   "file_extension": ".py",
   "mimetype": "text/x-python",
   "name": "python",
   "nbconvert_exporter": "python",
   "pygments_lexer": "ipython3",
   "version": "3.8.0"
  },
  "widgets": {
   "application/vnd.jupyter.widget-state+json": {
    "state": {},
    "version_major": 2,
    "version_minor": 0
   }
  }
 },
 "nbformat": 4,
 "nbformat_minor": 4
}
