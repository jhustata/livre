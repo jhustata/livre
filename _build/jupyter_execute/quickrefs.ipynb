{
 "cells": [
  {
   "attachments": {},
   "cell_type": "markdown",
   "metadata": {},
   "source": [
    "# Quick References\n",
    "\n",
    "Room \n",
    "   + W4019   \n",
    "   + East Baltimore Campus\n",
    "   + You're all welcome to join the in-person experience      \n",
    "          \n",
    "[Zoom](https://jhjhm.zoom.us/j/98481767907)    \n",
    "   + Sessions & labs will be recorded\n",
    "   + Videos will remain in the cloud for 120 days   \n",
    "   + Helpful to share your screen when troubleshooting during lab  \n",
    "                 \n",
    "[Syllabus](https://www.jhsph.edu/courses/course/36824/2023/340.600.11/stata-programming)       \n",
    "       \n",
    "[CoursePlus](https://courseplus.jhu.edu/core/index.cfm/go/home/)      \n",
    "   + Discussion Forum\n",
    "   + Lab Dropbox\n",
    "   + Online Library\n",
    "      + Video passcodes\n",
    "          \n",
    "Your Instructor     \n",
    "   + Abimereki Muzaale muzaale@jhmi.edu     \n",
    "     \n",
    "Teaching Assistants     \n",
    "   + Ning Meng nmeng2@jh.edu\n",
    "   + Monica Jia hjia11@jhu.edu\n",
    "   + Xujun Gu xgu23@jhmi.edu   \n",
    "\n",
    "Labs Due in DropBox at 11:59 PM\n",
    "   + [Lab 1](lab1.md) M\n",
    "   + Lab 2 T\n",
    "   + Lab 3 W\n",
    "   + Lab 4 Th\n",
    "   + Lab 5 F\n",
    "   + Optional M (06/26/2023)\n",
    "    \n",
    "Datasets used     \n",
    "   + [transplants.txt](https://raw.githubusercontent.com/jhustata/livre/main/transplants.txt)\n",
    "   + [donors.txt](https://raw.githubusercontent.com/jhustata/livre/main/donors.txt)\n",
    "   + [donors_recipients.txt](https://raw.githubusercontent.com/jhustata/livre/main/donors_recipients.txt)\n",
    "   + [tx_yr.txt](https://github.com/jhustata/livre/blob/main/tx_yr.txt)\n",
    "\n",
    "```{seealso}\n",
    "Last updated: 6:08 PM 06/14/2023\n",
    "\n",
    "1. Class content for the following day will be posted the evening before \n",
    "2. I will send out an email to the entire class on Sunday evening\n",
    "3. Any other urgent messages relating to the class will be right here\n",
    "```"
   ]
  }
 ],
 "metadata": {
  "kernelspec": {
   "display_name": "Python 3",
   "language": "python",
   "name": "python3"
  },
  "language_info": {
   "codemirror_mode": {
    "name": "ipython",
    "version": 3
   },
   "file_extension": ".py",
   "mimetype": "text/x-python",
   "name": "python",
   "nbconvert_exporter": "python",
   "pygments_lexer": "ipython3",
   "version": "3.11.2"
  },
  "widgets": {
   "application/vnd.jupyter.widget-state+json": {
    "state": {},
    "version_major": 2,
    "version_minor": 0
   }
  }
 },
 "nbformat": 4,
 "nbformat_minor": 4
}