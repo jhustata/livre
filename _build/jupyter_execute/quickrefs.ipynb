{
 "cells": [
  {
   "attachments": {},
   "cell_type": "markdown",
   "metadata": {},
   "source": [
    "# Quick References\n",
    "\n",
    "Room \n",
    "   + W4019   \n",
    "   + East Baltimore Campus\n",
    "   + You're all welcome to join the in-person experience      \n",
    "          \n",
    "[Zoom](https://jhjhm.zoom.us/j/98481767907)    \n",
    "   + Sessions & labs will be recorded\n",
    "   + Videos will remain in the cloud for 120 days   \n",
    "   + Helpful to share your screen when troubleshooting during lab  \n",
    "\n",
    "Recordings     \n",
    "   + [M](https://jhjhm.zoom.us/rec/share/Tu4I0oHi9-SE3zpXydt8d7ldkN8kUVkkuB_kybLvi8HZnVIMDPhVF4N5x9llqbxS.lPNfG3sdsAv7fG5O?startTime=1687178245000)     \n",
    "   + T     \n",
    "   + W     \n",
    "   + Th     \n",
    "   + F     \n",
    "                 \n",
    "[Syllabus](https://www.jhsph.edu/courses/course/36824/2023/340.600.11/stata-programming)       \n",
    "       \n",
    "[CoursePlus](https://courseplus.jhu.edu/core/index.cfm/go/home/)      \n",
    "   + Content\n",
    "      + Video passcodes\n",
    "   + Discussion Forum\n",
    "   + Lab Dropbox\n",
    "\n",
    "Your Instructor     \n",
    "   + Abimereki Muzaale muzaale@jhmi.edu     \n",
    "     \n",
    "Teaching Assistants     \n",
    "   + Ning Meng nmeng2@jh.edu\n",
    "   + Monica Jia hjia11@jhu.edu\n",
    "   + Xujun Gu xgu23@jhmi.edu   \n",
    "\n",
    "Labs Due in DropBox at 11:59 PM\n",
    "   + [Lab 1](lab1.md) M\n",
    "   + Lab 2 T\n",
    "   + Lab 3 W\n",
    "   + Lab 4 Th\n",
    "   + Lab 5 F\n",
    "   + Optional M (06/26/2023)\n",
    "    \n",
    "Datasets used     \n",
    "   + [transplants.txt](https://raw.githubusercontent.com/jhustata/livre/main/transplants.txt)\n",
    "   + [donors.txt](https://raw.githubusercontent.com/jhustata/livre/main/donors.txt)\n",
    "   + [donors_recipients.txt](https://raw.githubusercontent.com/jhustata/livre/main/donors_recipients.txt)\n",
    "   + [tx_yr.txt](https://raw.githubusercontent.com/jhustata/livre/main/tx_yr.txt)\n",
    "     \n",
    "Supplemental do-files     \n",
    "   + [lecture1.do](lecture1do.md)     \n",
    "   + [lecture2.do](lecture2do.md)     \n",
    "   + [lecture3.do](lecture3do.md)     \n",
    "   + [lecture4.do](lecture4do.md)    [lec4demo.do](lec4demodo.md)     \n",
    "   + [lecture5.do](lecture5do.md)     \n",
    "\n",
    "```{seealso}\n",
    "Last updated: 12:41 PM 06/19/2023\n",
    "\n",
    "1. Video recording of Session 1 has gone live (see above)\n",
    "2. The passcode for the video recording is available at [CoursePlus > Content > Session1](https://courseplus.jhu.edu/core/index.cfm/go/home/)\n",
    "3. **Only** those doing the class for credit are required to hand in their lab do-file. But everyone is welcome to do so!\n",
    "```"
   ]
  }
 ],
 "metadata": {
  "kernelspec": {
   "display_name": "Python 3",
   "language": "python",
   "name": "python3"
  },
  "language_info": {
   "codemirror_mode": {
    "name": "ipython",
    "version": 3
   },
   "file_extension": ".py",
   "mimetype": "text/x-python",
   "name": "python",
   "nbconvert_exporter": "python",
   "pygments_lexer": "ipython3",
   "version": "3.11.2"
  },
  "widgets": {
   "application/vnd.jupyter.widget-state+json": {
    "state": {},
    "version_major": 2,
    "version_minor": 0
   }
  }
 },
 "nbformat": 4,
 "nbformat_minor": 4
}