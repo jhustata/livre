{
 "cells": [
  {
   "attachments": {},
   "cell_type": "markdown",
   "metadata": {},
   "source": [
    "# Quick References\n",
    "\n",
    "Room W4019      \n",
    "[Zoom](https://jhjhm.zoom.us/j/98481767907)      \n",
    "[Syllabus](https://www.jhsph.edu/courses/course/36824/2023/340.600.11/stata-programming)     \n",
    "[CoursePlus](https://courseplus.jhu.edu/core/index.cfm/go/home/)     \n",
    "\n",
    "Your Instructor     \n",
    "   + Abimereki Muzaale muzaale@jhmi.edu     \n",
    "     \n",
    "Teaching Assistants     \n",
    "   + Ning Meng nmeng2@jh.edu\n",
    "   + Monica Jia hjia11@jhu.edu\n",
    "   + Xujun Gu xgu23@jhmi.edu     \n",
    "\n",
    "Labs Due\n",
    "   + CoursePlus DropBox at 11:50PM on the same day\n",
    "   + The optional assignment is due 11:59PM on Monday 06/26/2023"
   ]
  }
 ],
 "metadata": {
  "kernelspec": {
   "display_name": "Python 3",
   "language": "python",
   "name": "python3"
  },
  "language_info": {
   "codemirror_mode": {
    "name": "ipython",
    "version": 3
   },
   "file_extension": ".py",
   "mimetype": "text/x-python",
   "name": "python",
   "nbconvert_exporter": "python",
   "pygments_lexer": "ipython3",
   "version": "3.11.2"
  },
  "widgets": {
   "application/vnd.jupyter.widget-state+json": {
    "state": {},
    "version_major": 2,
    "version_minor": 0
   }
  }
 },
 "nbformat": 4,
 "nbformat_minor": 4
}