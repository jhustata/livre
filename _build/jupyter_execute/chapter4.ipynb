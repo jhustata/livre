{
 "cells": [
  {
   "attachments": {},
   "cell_type": "markdown",
   "metadata": {},
   "source": [
    "# 4. Advanced file management\n",
    "\n",
    "Is there anything wrong with this code block?\n",
    "\n",
    "```stata\n",
    "program define myprogram\n",
    "quietly {\n",
    "forvalues i=1/10 {\n",
    "if `i' < 5 {\n",
    "noisily disp \"`i' is less than five\" }\n",
    "else {\n",
    "noisily disp \"`i' is at least five\" }\n",
    "}\n",
    "} \n",
    "end\n",
    "```\n",
    "\n",
    "![](chatgpt_indent.png)"
   ]
  },
  {
   "attachments": {},
   "cell_type": "markdown",
   "metadata": {},
   "source": [
    "General programming practices\n",
    "\n",
    "+ indent your code \n",
    "   + or copy & paste into chatGPT, which will most certainly indent the code\n",
    "   + code is much easier to read if indented\n",
    "   + much easier to see and prevent errors\n",
    "   + easier to debug\n",
    "   + you'll find it easier to modify\n",
    "\n",
    "+ test, test, test\n",
    "   + iterate, iterate, iterate\n",
    "\n",
    "+ collaborate, collaborate, collaborate\n",
    "   + share, share, share"
   ]
  },
  {
   "attachments": {},
   "cell_type": "markdown",
   "metadata": {},
   "source": [
    "## 4.1 by \n",
    "\n",
    "Have you seen this syntax before?\n",
    "\n",
    "```stata\n",
    "gen record_no = _n //row number \n",
    "disp _N //total # rows\n",
    "```\n",
    "\n",
    "What if we want a variable of the total number of records in each ABO blood type category?\n",
    "\n",
    "```stata\n",
    "sort abo\n",
    "by abo: gen cat_n = _N\n",
    "```\n",
    "\n",
    "Which creates a variable cat_n storing the number of records in each abo category\n",
    "\n",
    "```stata\n",
    "sort abo age\n",
    "by abo: gen cat_id = _n\n",
    "```\n",
    "\n",
    "Which creates a variable `cat_id` which is 1 for the youngest patient in each category, 2 for the\n",
    "next youngest, etc.\n",
    "\n",
    "You can combine the `sort` and the `by` into `bysort` (or just `bys`)"
   ]
  },
  {
   "attachments": {},
   "cell_type": "markdown",
   "metadata": {},
   "source": [
    "## 4.2 egen  \n",
    "\n",
    "We can create a new variable equal to the mean of all records...\n",
    "\n",
    "```stata\n",
    "use transplants, clear\n",
    "sum age\n",
    "gen mean_age = r(mean)\n",
    "```\n",
    "\n",
    "...but how can we do that with just one command?\n",
    "\n",
    "```stata\n",
    "use transplants, clear \n",
    "egen mean_age = mean(age)\n",
    "```"
   ]
  },
  {
   "attachments": {},
   "cell_type": "markdown",
   "metadata": {},
   "source": [
    "More valid egen commands:\n",
    "\n",
    "```stata\n",
    "egen median_age = median(age) egen max_age = max(age)\n",
    "egen min_age = min(age)\n",
    "egen age_q1 = pctile(age), p(25) egen age_sd = sd(age)\n",
    "egen total_prev = sum(prev)\n",
    "```"
   ]
  },
  {
   "attachments": {},
   "cell_type": "markdown",
   "metadata": {},
   "source": [
    "So what's the big deal? Suppose we want the mean age, stratified by diagnosis? First, we sort on diagnosis\n",
    "\n",
    "```stata\n",
    "use transplants, clear \n",
    "sort dx\n",
    "```\n",
    "\n",
    "Now we do `by dx: egen`\n",
    "\n",
    "```stata\n",
    "by dx: egen mean_age = mean(age)\n",
    "by dx: egen min_bmi = min(bmi) \n",
    "```\n",
    "\n",
    "Or we can use `bysort`"
   ]
  },
  {
   "attachments": {},
   "cell_type": "markdown",
   "metadata": {},
   "source": [
    "More valid egen commands:\n",
    "\n",
    "```stata\n",
    "bys abo: egen m_bmi=mean(bmi)\n",
    "bys abo gender: egen max_bmi = max(bmi) \n",
    "bys abo gender: egen min_bmi = min(bmi) \n",
    "gen spread = max_bmi – min_bmi\n",
    "```"
   ]
  },
  {
   "attachments": {},
   "cell_type": "markdown",
   "metadata": {},
   "source": [
    "## 4.3 tag \n",
    "\n",
    "Supposed you've generated `spread` as per the previous slide. You want to look at it:\n",
    "\n",
    "```stata\n",
    "list abo gender spread\n",
    "```\n",
    "\n",
    "`egen = tag` will create a new variable that \"tags\" one record per abo/gender pair. This\n",
    "variable is 1 for each tagged record, and 0 for all others:\n",
    "\n",
    "```stata\n",
    "egen grouptag = tag(abo gender) \n",
    "list abo gend spread if grouptag\n",
    "```"
   ]
  },
  {
   "attachments": {},
   "cell_type": "markdown",
   "metadata": {},
   "source": [
    "```stata\n",
    "use donors_recipients, clear \n",
    "bys fake_don: gen n_tx = _N \n",
    "bys fake_don: gen tx_id = _n \n",
    "egen don_tag = tag(fake_don) \n",
    "tab n_tx if don_tag\n",
    "```\n",
    "\n",
    "1. Import dataset\n",
    "2. Total number of recipients for each donor\n",
    "3. ID for each transplant for a given donor (1 or 2)\n",
    "4. Tag one record per donor\n",
    "5. Display a table of transplants per donor\n",
    "\n",
    "tagging <u>protip</u>: `egen = tag` is very handy for graphing (which we haven't discussed yet). Many graphing commands are slow on large datasets. You can use `egen = tag` to run your graphic commands on only one record per group\n",
    "\n",
    "```stata\n",
    "use transplants, clear\n",
    "egen ethtag = tag(ethcat)\n",
    "bys ethcat: egen mean_bmi=mean(bmi) \n",
    "bys ethcat: egen mean_age=mean(age)\n",
    "```"
   ]
  },
  {
   "attachments": {},
   "cell_type": "markdown",
   "metadata": {},
   "source": [
    "## 4.4 function()"
   ]
  },
  {
   "attachments": {},
   "cell_type": "markdown",
   "metadata": {},
   "source": [
    "## 4.4.1 round() \n",
    "\n",
    "Round down to the nearest integer:\n",
    "\n",
    "```stata\n",
    "disp floor(0.3)\n",
    "disp floor(8.9)\n",
    "```\n",
    "\n",
    "Round up to the nearest integer\n",
    "\n",
    "```stata\n",
    "disp ceil(0.3)\n",
    "disp ceil(8.9)\n",
    "```\n",
    "\n",
    "Round to the nearest integer\n",
    "\n",
    "```stata\n",
    "disp round(0.3)\n",
    "disp round (8.9)\n",
    "```"
   ]
  },
  {
   "attachments": {},
   "cell_type": "markdown",
   "metadata": {},
   "source": [
    "## 4.4.2 min()\n",
    "\n",
    "```stata\n",
    "disp min(8,6,7,5,3,0,9)\n",
    "disp max(8,6,7,5,3,0,9)\n",
    "```"
   ]
  },
  {
   "attachments": {},
   "cell_type": "markdown",
   "metadata": {},
   "source": [
    "## 4.4.3 exp()\n",
    "\n",
    "Useful for transforming a variable (exponent, log, square root):\n",
    "\n",
    "```stata\n",
    "disp exp(1)\n",
    "disp ln(20)\n",
    "disp sqrt(729)\n",
    "```\n",
    "\n",
    "Other math functions:\n",
    "\n",
    "```stata\n",
    "di abs(-6) //absolute value\n",
    "disp mod(529, 10) //modulus (remainder)\n",
    "disp c(pi)\n",
    "disp sin(c(pi)/2) //sine function\n",
    "```\n"
   ]
  },
  {
   "attachments": {},
   "cell_type": "markdown",
   "metadata": {},
   "source": [
    "## 4.4.4 strpos()\n",
    "\n",
    "As discussed throughout this course, a string variable is data that takes the form of characters instead of numbers.\n",
    "\n",
    "```stata\n",
    "use transplants, clear\n",
    "ds, has(type string)\n",
    "```"
   ]
  },
  {
   "attachments": {},
   "cell_type": "markdown",
   "metadata": {},
   "source": [
    "```stata\n",
    "list extended_dgn in 1/5, clean\n",
    "```"
   ]
  },
  {
   "attachments": {},
   "cell_type": "markdown",
   "metadata": {},
   "source": [
    "### 4.4.4.1 word()"
   ]
  },
  {
   "attachments": {},
   "cell_type": "markdown",
   "metadata": {},
   "source": [
    "The word function isolates the first (or second, etc.) word of a string.\n",
    "\n",
    "```stata\n",
    "disp word(\"Hello, is there anybody in there?\", 4)\n",
    "```"
   ]
  },
  {
   "attachments": {},
   "cell_type": "markdown",
   "metadata": {},
   "source": [
    "```stata\n",
    "list extended_dgn if word(ext, 5) != \"\", clean noobs\n",
    "```"
   ]
  },
  {
   "attachments": {},
   "cell_type": "markdown",
   "metadata": {},
   "source": [
    "### 4.4.4.2 strlen()\n",
    "\n",
    "The strlen function counts the number of characters in a string\n",
    "\n",
    "```stata\n",
    "disp strlen(\"Same as it ever was\")\n",
    "list extended_dgn if strlen(ext)< 6, clean\n",
    "```\n"
   ]
  },
  {
   "attachments": {},
   "cell_type": "markdown",
   "metadata": {},
   "source": [
    "### 4.4.4.3 regexm()\n",
    "\n",
    "Test whether a string appears inside of another string\n",
    "\n",
    "```stata\n",
    "assert regexm(\"Earth\", \"art\")\n",
    "assert !regexm(\"team\", \"I\")\n",
    "\n",
    "tab ext if regexm(ext, \"HTN\")\n",
    "```"
   ]
  },
  {
   "attachments": {},
   "cell_type": "markdown",
   "metadata": {},
   "source": [
    "\n",
    "regexm actually searches for regular expressions. We won't go into the syntax, but you can do more powerful searches.\n",
    "\n",
    "```stata\n",
    "list ext if regexm(ext, \"^A\") \n",
    "//starts with A\n",
    "\n",
    "list ext if regexm(ext, \"X$\") \n",
    "//ends with X\n",
    "\n",
    "tab ext if regexm(ext, \"HIV.*Y\") \n",
    "//contains \"HIV\", then some other stuff, then Y\n",
    "\n",
    "```"
   ]
  },
  {
   "attachments": {},
   "cell_type": "markdown",
   "metadata": {},
   "source": [
    "### 4.4.5 dates()\n",
    "\n",
    "How does Stata store dates? Remember this?\n",
    "\n",
    "```stata\n",
    "disp %3.2f exp(1)\n",
    "disp %4.1f 3.14159\n",
    "```\n"
   ]
  },
  {
   "attachments": {},
   "cell_type": "markdown",
   "metadata": {},
   "source": [
    "### 4.4.6 strpos()\n",
    "\n",
    "In Stata, you can use the `strpos()` function to find the position of the first occurrence of a substring within a string. \n",
    "\n",
    "```stata\n",
    "di strpos(\"history\", \"his\")\n",
    "di strpos(\"history\", \"story\")\n",
    "di strpos(\"history\", \"story\")!=0\n",
    "\n",
    "```\n",
    "\n",
    "+ The substring \"his\" is found at the beginning of the string \"history\" and so the output is `1` \n",
    "+ The substring \"story\" starts at index 4 within the string \"history\"\n",
    "\n",
    "If you want to check whether the substring \"story\" exists within the string \"history\" using Stata, you can use the `strpos()` function and compare the result to zero. Here's an example:\n",
    "\n",
    "```stata\n",
    "if strpos(\"history\", \"story\") != 0 {\n",
    "    di \"Substring 'story' exists within the string 'history'\"\n",
    "}\n",
    "else {\n",
    "    di \"Substring 'story' does not exist within the string 'history'\"\n",
    "}\n",
    "\n",
    "```\n",
    "\n",
    "In this case, if the substring \"story\" is found within the string \"history\", the message \"Substring 'story' exists within the string 'history'\" will be displayed. Otherwise, if the substring is not found, the message \"Substring 'story' does not exist within the string 'history'\" will be displayed."
   ]
  },
  {
   "attachments": {},
   "cell_type": "markdown",
   "metadata": {},
   "source": [
    "```stata\n",
    "if 0 {\n",
    "\tlog using pde2014.log, replace \n",
    "    use pde2014, clear\n",
    "    assert c(N) == 25915777\n",
    "    set seed 340600\n",
    "    sample .01\n",
    "    keep usrds_id srvc_dt gnn\n",
    "    count\n",
    "    replace usrds_id=round(runiform(0,100))\n",
    "    l in 1/10\n",
    "    label data \"strpos demo for 340.600.11\"\n",
    "    save strpos.dta, replace\n",
    "\tlog close \n",
    "}\n",
    "```\n",
    "\n",
    "```stata\n",
    "\n",
    ".     use pde2014, clear\n",
    ".     assert c(N) == 25915777\n",
    ".     set seed 340600\n",
    ".     sample .01\n",
    "(25,913,185 observations deleted)\n",
    ".     keep usrds_id srvc_dt gnn\n",
    ".     count\n",
    "  2,592\n",
    ".     replace usrds_id=round(runiform(0,100))\n",
    "(2,592 real changes made)\n",
    ".     l in 1/10\n",
    "\n",
    "     +-------------------------------------------------------+\n",
    "     | usrds_id   gnn                                srvc_dt |\n",
    "     |-------------------------------------------------------|\n",
    "  1. |       53   CARVEDILOL                       01jul2014 |\n",
    "  2. |       45   ATORVASTATIN CALCIUM             16jun2014 |\n",
    "  3. |       53   BUPROPION HCL                    23aug2014 |\n",
    "  4. |       99   CARVEDILOL                       16apr2014 |\n",
    "  5. |       68   CARVEDILOL                       20jan2014 |\n",
    "     |-------------------------------------------------------|\n",
    "  6. |       18   INSULIN GLARGINE,HUM.REC.ANLOG   13oct2014 |\n",
    "  7. |       49   LORAZEPAM                        15nov2014 |\n",
    "  8. |       33   LACTULOSE                        06nov2014 |\n",
    "  9. |       31   PANTOPRAZOLE SODIUM              11jan2014 |\n",
    " 10. |       45   LABETALOL HCL                    12mar2014 |\n",
    "     +-------------------------------------------------------+\n",
    ".     label data \"strpos demo for 340.600.11\"\n",
    ".     save strpos.dta, replace\n",
    "file strpos.dta saved\n",
    "\n",
    "```\n",
    "\n",
    "[strpos.dta](strpos.dta)\n",
    "\n",
    "```stata\n",
    "use strpos.dta, clear\n",
    "gen\tantihist16=(strpos(gnn,\"BROMPHENIRAMINE\")!=0)\n",
    "gen\tantihist19=(strpos(gnn,\"CARBINOXAMINE\")!=0)\n",
    "gen\tantihist26=(strpos(gnn,\"CHLORPHENIRAMINE\")!=0)\n",
    "gen\tantihist31=(strpos(gnn,\"CLEMASTINE\")!=0)\n",
    "gen\tantihist36=(strpos(gnn,\"CYPROHEPTADINE\")!=0)\n",
    "gen\tantihist39=(strpos(gnn,\"DEXBROMPHENIRAMINE\")!=0)\n",
    "gen\tantihist40=(strpos(gnn,\"DEXCHLORPHENIRAMINE\")!=0)\n",
    "gen\tantihist43=(strpos(gnn,\"DIMENHYDRINATE\")!=0)\n",
    "gen\tantihist47=(strpos(gnn,\"DIPHENHYDRAMINE\")!=0)\n",
    "gen\tantihist51=(strpos(gnn,\"DOXYLAMINE\")!=0)\n",
    "gen\tantihist65=(strpos(gnn,\"HYDROXYZINE\")!=0)\n",
    "gen\tantihist77=(strpos(gnn,\"MECLIZINE\")!=0)\n",
    "gen\tantihist101=(strpos(gnn,\"PROMETHAZINE\")!=0)\n",
    "gen\tantihist105=(strpos(gnn,\"PYRILAMINE\")!=0)\n",
    "gen\tantihist127=(strpos(gnn,\"TRIPROLIDINE\")!=0)      \n",
    "g antihist_rx=( ///\t\n",
    "   antihist16+\t///\n",
    "   antihist19+\t///\n",
    "   antihist26+\t///\n",
    "   antihist31+\t///\n",
    "   antihist36+\t///\n",
    "   antihist39+\t///\n",
    "   antihist40+\t///\n",
    "   antihist43+\t///\n",
    "   antihist47+\t///\n",
    "   antihist51+\t///\n",
    "   antihist65+\t///\n",
    "   antihist77+\t///\n",
    "   antihist101+\t///\n",
    "   antihist105+\t///\n",
    "   antihist127\t///\n",
    "     >0)\n",
    "keep usrds_id srvc_dt antihist_rx\n",
    "l in 100\n",
    "```"
   ]
  },
  {
   "attachments": {},
   "cell_type": "markdown",
   "metadata": {},
   "source": [
    "Stata stores dates as a special format of integer – the number of days since January 1, 1960\n",
    "\n",
    "```stata\n",
    "disp %td 19400\n",
    "disp %td 366\n",
    "disp %td -5\n",
    "\n",
    "```\n",
    "\n",
    "\"td\" = \"time, date\" (probably)\n",
    "\n",
    "Since Stata stores dates as numbers, you can do arithmetic on them.\n",
    "\n",
    "```stata\n",
    "use transplants, clear\n",
    "gen oneweek = transplant_date+7\n",
    "format %td oneweek\n",
    "list transplant_date oneweek in 1/3\n",
    "```\n",
    "\n",
    "\n"
   ]
  },
  {
   "attachments": {},
   "cell_type": "markdown",
   "metadata": {},
   "source": [
    "Converting a date to Stata %td: td()\n",
    "\n",
    "The function td() can give the number corresponding to a date written in Stata's funny default format. \n",
    "\n",
    "```stata\n",
    "disp td(04jul1976)\n",
    "disp td(26oct1985) \n",
    "```"
   ]
  },
  {
   "attachments": {},
   "cell_type": "markdown",
   "metadata": {},
   "source": [
    "The function date() can convert a string to a numerical date. It takes two strings. The first is the date to convert, and the second is a formatting string telling the order of month, date and year.\n",
    "\n",
    "\n",
    "```stata\n",
    "disp date(\"August 15, 1969\", \"MDY\")\n",
    "disp date(\"2061 28 July\", \"YDM\")\n",
    "```\n"
   ]
  },
  {
   "attachments": {},
   "cell_type": "markdown",
   "metadata": {},
   "source": [
    "Generate a date variable from a string\n",
    "\n",
    "```stata\n",
    "use donors.dta, clear\n",
    "list fake_don_id fake_don_dob\n",
    "\n",
    "gen donor_dob = date(fake_don_dob, \"DMY\")\n",
    "\n",
    "\n",
    "```"
   ]
  },
  {
   "attachments": {},
   "cell_type": "markdown",
   "metadata": {},
   "source": [
    "## 4.5 stset\n",
    "\n",
    "This portion of the lecture is designed for people who:\n",
    "+ have not done survival analyses in Stata, but\n",
    "+ know what \"survival analyses\" are\n"
   ]
  },
  {
   "attachments": {},
   "cell_type": "markdown",
   "metadata": {},
   "source": [
    "### 4.5.1 gen"
   ]
  },
  {
   "attachments": {},
   "cell_type": "markdown",
   "metadata": {},
   "source": [
    "### 4.5.2 stset"
   ]
  },
  {
   "attachments": {},
   "cell_type": "markdown",
   "metadata": {},
   "source": [
    "### 4.5.3 sts "
   ]
  },
  {
   "attachments": {},
   "cell_type": "markdown",
   "metadata": {},
   "source": [
    "#### 4.5.3.1 sts graph"
   ]
  },
  {
   "attachments": {},
   "cell_type": "markdown",
   "metadata": {},
   "source": [
    "#### 4.5.3.2 sts list"
   ]
  },
  {
   "attachments": {},
   "cell_type": "markdown",
   "metadata": {},
   "source": [
    "#### 4.5.3.3 sts test"
   ]
  },
  {
   "attachments": {},
   "cell_type": "markdown",
   "metadata": {},
   "source": [
    "#### 4.5.3.4 stsum"
   ]
  },
  {
   "attachments": {},
   "cell_type": "markdown",
   "metadata": {},
   "source": [
    "#### 4.5.3.5 stcox"
   ]
  },
  {
   "attachments": {},
   "cell_type": "markdown",
   "metadata": {},
   "source": [
    "## 4.6 merge"
   ]
  }
 ],
 "metadata": {
  "kernelspec": {
   "display_name": "Python 3",
   "language": "python",
   "name": "python3"
  },
  "language_info": {
   "codemirror_mode": {
    "name": "ipython",
    "version": 3
   },
   "file_extension": ".py",
   "mimetype": "text/x-python",
   "name": "python",
   "nbconvert_exporter": "python",
   "pygments_lexer": "ipython3",
   "version": "3.11.2"
  },
  "widgets": {
   "application/vnd.jupyter.widget-state+json": {
    "state": {},
    "version_major": 2,
    "version_minor": 0
   }
  }
 },
 "nbformat": 4,
 "nbformat_minor": 4
}