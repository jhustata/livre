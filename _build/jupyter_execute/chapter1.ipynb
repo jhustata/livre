{
 "cells": [
  {
   "attachments": {},
   "cell_type": "markdown",
   "metadata": {},
   "source": [
    "# 1. Overview, syntax, commands"
   ]
  },
  {
   "attachments": {},
   "cell_type": "markdown",
   "metadata": {},
   "source": [
    "Please respond to the brief class survey that helps us better understand what your needs might be over the next five days. I'll launch it on [zoom](https://jhjhm.zoom.us/j/98481767907) for both the in-person and virtual attendees. The questions are asked here just for your convenience.\n",
    "\n",
    "1. How will you be using Stata from 06/19/2023-06/23/2023?\n",
    "   + Locally on my laptop\n",
    "   + Remotely on another desktop or terminal     \n",
    "     \n",
    "2. What operating system are you using locally or remotely?\n",
    "   + MacOSX\n",
    "   + Unix\n",
    "   + Windows\n",
    "\n",
    "3. Do you have any experience using Stata, SAS, R, Python, or any other statistical software?\n",
    "   0. **No Experience.** I have no prior experience with Stata and am unfamiliar with the software. Also, I have no experience with other statistical software such as SAS, R, Python, etc.\n",
    "   1. **Basic Knowledge.** I have a general understanding of basic commands but I require asistance to perform tasks.\n",
    "   2. **Novice User.** I am familiar with basic commands and can import data and do basic data cleaning. But I require guidance for more complex analyses.\n",
    "   3. **Competent User.** I am proficient in using Stata, SAS, R, Python, etc. for data exploration, descriptive statistics, basic inference (t-tests, chi-square tests), and regression\n",
    "   4. **Advanced User.** I can do multivariable regression and understand various statistical modeling options and techniques available in Stata, SAS, R, etc.\n",
    "   5. **Expert User.** I can write custom programs, macros, ado-files in Stata. Or I am an experet user of SAS, R, Python, etc. but have little to no experience with Stata.\n"
   ]
  }
 ],
 "metadata": {
  "kernelspec": {
   "display_name": "Python 3",
   "language": "python",
   "name": "python3"
  },
  "language_info": {
   "codemirror_mode": {
    "name": "ipython",
    "version": 3
   },
   "file_extension": ".py",
   "mimetype": "text/x-python",
   "name": "python",
   "nbconvert_exporter": "python",
   "pygments_lexer": "ipython3",
   "version": "3.11.2"
  },
  "widgets": {
   "application/vnd.jupyter.widget-state+json": {
    "state": {},
    "version_major": 2,
    "version_minor": 0
   }
  }
 },
 "nbformat": 4,
 "nbformat_minor": 4
}