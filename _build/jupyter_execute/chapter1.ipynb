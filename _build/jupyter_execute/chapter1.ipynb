{
 "cells": [
  {
   "attachments": {},
   "cell_type": "markdown",
   "metadata": {},
   "source": [
    "# 1. Overview, syntax, commands"
   ]
  },
  {
   "attachments": {},
   "cell_type": "markdown",
   "metadata": {},
   "source": [
    "This will be your reference slide throughout this Stata Programming course ph.340.600.41"
   ]
  },
  {
   "cell_type": "code",
   "execution_count": 1,
   "metadata": {
    "vscode": {
     "languageId": "plaintext"
    }
   },
   "outputs": [
    {
     "ename": "SyntaxError",
     "evalue": "unterminated string literal (detected at line 46) (810521560.py, line 46)",
     "output_type": "error",
     "traceback": [
      "\u001b[0;36m  Cell \u001b[0;32mIn[1], line 46\u001b[0;36m\u001b[0m\n\u001b[0;31m    + We encourage you to do the in-class labs even if you're not taking the class for credit\u001b[0m\n\u001b[0m                                                          ^\u001b[0m\n\u001b[0;31mSyntaxError\u001b[0m\u001b[0;31m:\u001b[0m unterminated string literal (detected at line 46)\n"
     ]
    }
   ],
   "source": [
    "# 1.1 Personnel\n",
    "\n",
    "### 1.1.1 Your instructor\n",
    "Abimereki Muzaale muzaale@jhmi.edu\n",
    "\n",
    "## 1.1.2 Teaching assistants\n",
    "Ning Meng nmeng2@jh.edu\n",
    "Monica Jia hjia11@jhu.edu\n",
    "Xujun Gu xgu23@jhmi.edu\n",
    "\n",
    "## 1.2 Class structure\n",
    "\n",
    "+ 8:30-9:30 lecture\n",
    "+ 9:30[-](labs.md)10:00 lab\n",
    "+ 10:00-10:15 break\n",
    "+ 10:15-11:15 lecture\n",
    "+ 11:15-12:00 lab\n",
    "\n",
    "## 1.3 Rough schedule\n",
    "\n",
    "### 1.3.1 Monday\n",
    "+ Overview\n",
    "+ Syntax\n",
    "+ Commands\n",
    "\n",
    "### 1.3.2 Tuesday\n",
    "+ Return values\n",
    "+ Macros\n",
    "+ Programs\n",
    "\n",
    "### 1.3.3 Wednesday\n",
    "+ Loops\n",
    "+ Program syntax\n",
    "\n",
    "### 1.3.4 Thursday\n",
    "+ Functions\n",
    "+ Advanced commands\n",
    "\n",
    "### 1.3.5 Friday\n",
    "+ Graphs\n",
    "\n",
    "## 1.4 Evaluation\n",
    "\n",
    "+ One graded lab per day (in-class)\n",
    "+ An optional assignment given at the end of the class\n",
    "+ We encourage you to do the in-class labs even if you're not taking the class for credit\n",
    "+ Everyone who turns in every lab + the final assignment (on time) will get an A or a B\n",
    "\n",
    "## 1.5 Online learning\n",
    "\n",
    "+ CoursePlus Discussion Forum \n",
    "     + General questions about Stata\n",
    "     + Course Administration\n",
    "     + Etc.\n",
    "+ Email instructor\n",
    "     + For confidential questions (e.g. grades)\n",
    "+ Zoom protocol\n",
    "     + Everyone but the lecturer will be muted\n",
    "     + Type questions into the Zoom \"chat\" window, which we will check every few minutes\n",
    "     + During labs: Post questions/comments to CoursePlus message board. Zoom will remain on\n",
    "     + We intend to record and post lectures; no guarantees. Please watch live if feasible\n",
    "+ Academic Integrity\n",
    "     + Copying small code snippets from books, the Internet, etc. is permissible with citation in the comments\n",
    "     + May annotate like this: `// Adapted from code at http://whatev.er/page.txt`\n",
    "     + Looking at other students' code (i.e. over their shoulder, with their permission) is encouraged\n",
    "\n"
   ]
  }
 ],
 "metadata": {
  "kernelspec": {
   "display_name": "Python 3",
   "language": "python",
   "name": "python3"
  },
  "language_info": {
   "codemirror_mode": {
    "name": "ipython",
    "version": 3
   },
   "file_extension": ".py",
   "mimetype": "text/x-python",
   "name": "python",
   "nbconvert_exporter": "python",
   "pygments_lexer": "ipython3",
   "version": "3.11.2"
  },
  "widgets": {
   "application/vnd.jupyter.widget-state+json": {
    "state": {},
    "version_major": 2,
    "version_minor": 0
   }
  }
 },
 "nbformat": 4,
 "nbformat_minor": 4
}