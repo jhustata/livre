{
 "cells": [
  {
   "attachments": {},
   "cell_type": "markdown",
   "metadata": {},
   "source": [
    "# 2. Return values, macros, programs"
   ]
  },
  {
   "attachments": {},
   "cell_type": "markdown",
   "metadata": {},
   "source": [
    "Let's briefly recap what we covered yesterday"
   ]
  },
  {
   "cell_type": "code",
   "execution_count": null,
   "metadata": {
    "tags": [
     "hide-input"
    ]
   },
   "outputs": [],
   "source": [
    "import networkx as nx\n",
    "import matplotlib.pyplot as plt\n",
    "#import numpy as np\n",
    "#import sklearn as skl\n",
    "# \n",
    "\n",
    "#plt.figure(figsize=[2, 2])\n",
    "G = nx.DiGraph()\n",
    "G.add_node(\"user\",  pos = (550,500) )\n",
    "G.add_node(\"system\",  pos = (-550,500) )\n",
    "G.add_node(\"program\",  pos = (-2000, 960) )\n",
    "G.add_node(\"syntax\",  pos = (2000, 950) )\n",
    "G.add_node(\"ado\", pos = (-3000, 550) )\n",
    "G.add_node(\"do\", pos = (3000, 550) )\n",
    "G.add_node(\"command\", pos = (-1900, 150) )\n",
    "G.add_node(\"queue\", pos = (1900, 150) )\n",
    "G.add_node(\"results\", pos = (0,0))\n",
    "G.add_node(\"dta\", pos = (0, -475))\n",
    "G.add_node(\"log\", pos = (-1900, -475))\n",
    "G.add_node(\"excel\", pos = (-4000, -475))\n",
    "G.add_node(\"word\", pos = (1900, -475))\n",
    "G.add_node(\"html\", pos = (4000, -475))\n",
    "G.add_node(\"publish\", pos = (0, -950))\n",
    "G.add_edges_from([ (\"program\",\"ado\"), (\"syntax\", \"do\")])\n",
    "G.add_edges_from([(\"ado\", \"command\"), (\"do\", \"queue\") ])\n",
    "G.add_edges_from([(\"command\", \"results\"), (\"queue\", \"results\"),(\"results\",\"excel\"),(\"results\",\"word\"),(\"results\",\"html\")])\n",
    "G.add_edges_from([(\"results\",\"dta\"),(\"results\",\"log\")])\n",
    "G.add_edges_from([(\"dta\",\"publish\"),(\"log\",\"publish\"),(\"excel\",\"publish\"),(\"word\",\"publish\"),(\"html\",\"publish\")])\n",
    "nx.draw(G, \n",
    "        nx.get_node_attributes(G, 'pos'), \n",
    "        with_labels=True, \n",
    "        font_weight='bold', \n",
    "        node_size = 4500,\n",
    "        node_color = \"lightblue\",\n",
    "        linewidths = 3)\n",
    "ax= plt.gca()\n",
    "ax.collections[0].set_edgecolor(\"#000000\")\n",
    "ax.set_xlim([-5000, 5000])\n",
    "ax.set_ylim([-1000, 1000])\n",
    "plt.show()"
   ]
  },
  {
   "attachments": {},
   "cell_type": "markdown",
   "metadata": {},
   "source": [
    "Results/Output\n",
    "   + A sequence or queue of instructions `commands + syntax = code` given to Stata via a do-file will generate results  \n",
    "   + <u>Never</u> include results in your do-file when you share your work in this class and with future collaborators\n",
    "   + Due diligence in the `open-science` enterprise demands that others `reproduce` your results and findings\n",
    "   + Your duty is to share <u>only</u> the `input`, and ours is to reproduce your `output` so as to fullfil our shared Credo \n",
    "   + Please share your do-files and any third-party ado-files, if at all your script or do-file relies on third-party programs      \n",
    "       \n",
    "Display/Files\n",
    "   + .xlsx\n",
    "   + .log\n",
    "   + .dta\n",
    "   + .docx\n",
    "   + [.html](https://jhustata.github.io/livre/dyndoc.html)\n",
    "   "
   ]
  },
  {
   "attachments": {},
   "cell_type": "markdown",
   "metadata": {},
   "source": [
    "## 2.1 xlsx\n",
    "\n",
    "```stata\n",
    "use transplants, clear \n",
    "putexcel set table1, replace\n",
    "putexcel A1=\"Table 1. Demographic and clinical characteristics of kidney transplant recipients\"\n",
    "putexcel B1=\"N=`c(N)'\"\n",
    "```"
   ]
  },
  {
   "attachments": {},
   "cell_type": "markdown",
   "metadata": {},
   "source": [
    "## 2.2 log\n",
    "\n",
    "```stata\n",
    "log using chi2.log, replace \n",
    "use transplants\n",
    "tab dx gender, row  chi2\n",
    "```\n",
    "\n",
    "```stata\n",
    ". tab dx gender, row  chi2\n",
    "\n",
    "+----------------+\n",
    "Key            \n",
    "------------------\n",
    "frequency    \n",
    "row percentage \n",
    "+----------------+\n",
    "\n",
    "Primary            gender\n",
    "Diagnosis      |    0    |    1\t    | Total\n",
    "---------------+---------+----------+------\t\t\t\n",
    "1=Glomerular   |  237    |    187   |\t 424 \n",
    "               |  55.90  |   44.10  | 100.00 \n",
    "---------------+---------+----------+------\t\t\t\n",
    "2=Diabetes     | 60      |  37\t    | 97 \n",
    "               | 61.86   |  38.14   | 100.00 \n",
    "---------------+---------+----------+------\t\t\t\n",
    "3=PKD          | 81      |  66\t    | 147 \n",
    "               | 55.10   |  44.90   | 100.00 \n",
    "---------------+---------+----------+------\t\t\t\n",
    "4=Hypertensive | 316     |  176\t    | 492 \n",
    "               | 64.23   |  35.77   | 100.00 \n",
    "---------------+---------+----------+------\t\t\n",
    "5=Renovascular | 24      |  15\t    | 39 \n",
    "               | 61.54   |  38.46   | 100.00 \n",
    "---------------+---------+----------+------\t\t\t\n",
    "6=Congenital   | 46      |  22\t    | 68 \n",
    "               | 67.65   |  32.35   | 100.00 \n",
    "---------------+---------+----------+------\t\t\t\t\n",
    "7=Tubulo       | 32      |  35\t    | 67 \n",
    "               | 47.76   |  52.24   | 100.00 \n",
    "---------------+---------+----------+------\t\t\t\n",
    "8=Neoplasm     | 8       |  5\t    | 13 \n",
    "               | 61.54   |  38.46   | 100.00 \n",
    "---------------+---------+----------+------\t\t\t\n",
    "9=Other        | 421     |  232\t    | 653 \n",
    "               | 64.47   |  35.53   | 100.00 \n",
    "---------------+---------+----------+------\t\t\t\n",
    "Total          | 1,225   |  775     | 2,000 \n",
    "               | 61.25   |  38.75   | 100.00 \n",
    "\n",
    "Pearson chi2(8) =  18.4805\tPr\t= 0.018\n",
    "\n",
    ". \n",
    "\n",
    "```\n",
    "\n",
    "If you review your log-file you'll find results similar to those above. But these are not in the typical format seen in peer-reviewed work. For instance, p-values are usually reported in a format that depends on their exact value:\n",
    "\n",
    "```stata\n",
    "\n",
    "qui {\n",
    "    if r(p) < 0.01 {\n",
    "\t   local p: di \"p < 0.01\"\n",
    "    }\n",
    "    else if inrange(r(p),0.01,0.05) {\n",
    "\t   local p: di %3.2f r(p)\n",
    "    }\n",
    "    else {\n",
    "\t   local p: di %2.1f r(p)\n",
    "    }\n",
    "\tnoi di \"p = `p'\"\n",
    "}\n",
    "```\n",
    "\n",
    "```stata\n",
    ". return list \n",
    "\n",
    "scalars:\n",
    "r(N) =  2000\n",
    "r(r) =  9\n",
    "r(c) =  2\n",
    "r(chi2) =  18.48047641017726\n",
    "r(p) =  .0178990677414798\n",
    "\n",
    ". qui {\n",
    "p = 0.02\n",
    "```\n",
    "\n",
    "We'll stop here for purposes of introducing the log-file as one of the file formats used to store output and results from analyes. Let's close the file now. \n",
    "\n",
    "```stata\n",
    "log close \n",
    "```\n",
    "\n",
    "```stata\n",
    ". log close\n",
    "name:  <unnamed>\n",
    "log:  /Users/d/Desktop/chi2.log\n",
    "log type:  text\n",
    "closed on:  20 Jun 2023, 05:46:13\n",
    "\t\n",
    "\n",
    "--------------------------------------------------------------\n",
    "```\n",
    "\n",
    "[chi2.log](chi2.log)"
   ]
  },
  {
   "attachments": {},
   "cell_type": "markdown",
   "metadata": {},
   "source": [
    "## 2.3 dta"
   ]
  },
  {
   "attachments": {},
   "cell_type": "markdown",
   "metadata": {},
   "source": [
    "## 2.4 docx"
   ]
  },
  {
   "attachments": {},
   "cell_type": "markdown",
   "metadata": {},
   "source": [
    "## 2.5 html"
   ]
  }
 ],
 "metadata": {
  "kernelspec": {
   "display_name": "Python 3",
   "language": "python",
   "name": "python3"
  },
  "language_info": {
   "codemirror_mode": {
    "name": "ipython",
    "version": 3
   },
   "file_extension": ".py",
   "mimetype": "text/x-python",
   "name": "python",
   "nbconvert_exporter": "python",
   "pygments_lexer": "ipython3",
   "version": "3.11.2"
  },
  "widgets": {
   "application/vnd.jupyter.widget-state+json": {
    "state": {},
    "version_major": 2,
    "version_minor": 0
   }
  }
 },
 "nbformat": 4,
 "nbformat_minor": 4
}
