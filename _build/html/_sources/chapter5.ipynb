{
 "cells": [
  {
   "attachments": {},
   "cell_type": "markdown",
   "metadata": {},
   "source": [
    "# 5. Graphs"
   ]
  },
  {
   "attachments": {},
   "cell_type": "markdown",
   "metadata": {},
   "source": [
    "Visualizing data"
   ]
  },
  {
   "attachments": {},
   "cell_type": "markdown",
   "metadata": {},
   "source": [
    "## 5.1  histogram"
   ]
  },
  {
   "attachments": {},
   "cell_type": "markdown",
   "metadata": {},
   "source": [
    "Univariable: distribution"
   ]
  },
  {
   "attachments": {},
   "cell_type": "markdown",
   "metadata": {},
   "source": [
    "```stata\n",
    "use transplants, clear\n",
    "hist bmi\n",
    "graph export bmi.png, replace \n",
    "```\n",
    "\n",
    "```stata\n",
    "\n",
    ". use transplants, clear\n",
    "\n",
    ". hist bmi\n",
    "(bin=32, start=17, width=.71875)\n",
    "\n",
    ". graph export bmi.png, replace \n",
    "file /Users/d/Dropbox (Personal)/1f.ἡἔρις,κ/1.ontology/summer/bmi.png\tsaved\tas\tPNG\tformat\n",
    "\n",
    ". \n",
    "\n",
    "\n",
    "```\n",
    "\n",
    "![](bmi.png)\n",
    "\n",
    "+ 32 bars\n",
    "+ First bar is BMI 17-17.71875\n",
    "+ Each one represents 0.71875 BMI units"
   ]
  },
  {
   "attachments": {},
   "cell_type": "markdown",
   "metadata": {},
   "source": [
    "```stata\n",
    "hist bmi, width(2)\n",
    "graph export bmi2.png, replace\n",
    "```\n",
    "\n",
    "```stata\n",
    ". hist bmi, width(2)\n",
    "(bin=12, start=17, width=2)\n",
    "\n",
    ". graph export bmi2.png, replace\n",
    "file /Users/d/Dropbox (Personal)/1f.ἡἔρις,κ/1.ontology/summer/bmi2.png\tsaved\tas\tPNG\tformat\n",
    "\n",
    ". \n",
    "\n",
    "```\n",
    "\n",
    "![](bmi2.png)\n",
    "\n",
    "+ 12 bars\n",
    "+ First bar is BMI 17-19\n",
    "+ Each on repesents 2 BMI units"
   ]
  },
  {
   "attachments": {},
   "cell_type": "markdown",
   "metadata": {},
   "source": [
    "```stata\n",
    "hist bmi, bin(500) start(0) \n",
    "graph export bmi3.png, normal replace\n",
    "```\n",
    "\n",
    "![](bmi3.png)"
   ]
  },
  {
   "attachments": {},
   "cell_type": "markdown",
   "metadata": {},
   "source": [
    "```stata\n",
    "hist bmi, width(2) start(0)\n",
    "graph export bmi3.png, replace\n",
    "```\n",
    "\n",
    "```stata\n",
    ". hist bmi, width(2) start(0)\n",
    "(bin=20, start=0, width=2)\n",
    "\n",
    ". graph export bmi3.png, replace\n",
    "file /Users/d/Dropbox (Personal)/1f.ἡἔρις,κ/1.ontology/summer/bmi3.png\tsaved\tas\tPNG\tformat\n",
    "\n",
    ". \n",
    "\n",
    "```\n",
    "\n",
    "+ 20 bars\n",
    "+ First bar is BMI 0-2\n",
    "+ Each one represents 2 units\n",
    "\n",
    "![](bmi3.png)"
   ]
  },
  {
   "attachments": {},
   "cell_type": "markdown",
   "metadata": {},
   "source": [
    "## 5.2 twoway"
   ]
  },
  {
   "attachments": {},
   "cell_type": "markdown",
   "metadata": {},
   "source": [
    "Bivariable: correlation"
   ]
  }
 ],
 "metadata": {
  "kernelspec": {
   "display_name": "Python 3",
   "language": "python",
   "name": "python3"
  },
  "language_info": {
   "codemirror_mode": {
    "name": "ipython",
    "version": 3
   },
   "file_extension": ".py",
   "mimetype": "text/x-python",
   "name": "python",
   "nbconvert_exporter": "python",
   "pygments_lexer": "ipython3",
   "version": "3.8.0"
  },
  "widgets": {
   "application/vnd.jupyter.widget-state+json": {
    "state": {},
    "version_major": 2,
    "version_minor": 0
   }
  }
 },
 "nbformat": 4,
 "nbformat_minor": 4
}
