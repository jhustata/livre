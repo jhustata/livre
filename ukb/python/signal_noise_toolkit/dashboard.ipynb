{
 "cells": [
  {
   "cell_type": "code",
   "execution_count": 1,
   "id": "d382a60a",
   "metadata": {},
   "outputs": [],
   "source": [
    "import requests\n",
    "from IPython.display import Markdown, HTML\n",
    "\n",
    "def fetch_tasks(layer=None, status=None, format=\"md\"):\n",
    "    params = {\"format\": format}\n",
    "    if layer: params[\"layer\"] = layer\n",
    "    if status: params[\"status\"] = status\n",
    "    res = requests.get(\"http://127.0.0.1:8000/tasks\", params=params)\n",
    "    return res.text if format in [\"md\", \"html\"] else res.json()\n"
   ]
  },
  {
   "cell_type": "code",
   "execution_count": 5,
   "id": "f836c11a",
   "metadata": {},
   "outputs": [
    {
     "name": "stdout",
     "output_type": "stream",
     "text": [
      "| Layer                       | Task            | Created    | Due   | Status   |\n",
      "|-----------------------------|-----------------|------------|-------|----------|\n",
      "| Symbolic / Representational | Sanity-u-d1bk2x | 2025-06-02 | TBD   | done     |\n"
     ]
    }
   ],
   "source": [
    "print(fetch_tasks(layer=\"symbolic\", status=\"done\", format=\"md\"))\n"
   ]
  }
 ],
 "metadata": {
  "kernelspec": {
   "display_name": "myenv",
   "language": "python",
   "name": "python3"
  },
  "language_info": {
   "codemirror_mode": {
    "name": "ipython",
    "version": 3
   },
   "file_extension": ".py",
   "mimetype": "text/x-python",
   "name": "python",
   "nbconvert_exporter": "python",
   "pygments_lexer": "ipython3",
   "version": "3.11.12"
  }
 },
 "nbformat": 4,
 "nbformat_minor": 5
}
