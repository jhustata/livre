{
 "cells": [
  {
   "attachments": {},
   "cell_type": "markdown",
   "metadata": {},
   "source": [
    "# 2. Return values, macros, programs"
   ]
  },
  {
   "attachments": {},
   "cell_type": "markdown",
   "metadata": {},
   "source": [
    "Let's briefly recap what we covered yesterday"
   ]
  },
  {
   "cell_type": "code",
   "execution_count": null,
   "metadata": {
    "tags": [
     "hide-input"
    ]
   },
   "outputs": [],
   "source": [
    "import networkx as nx\n",
    "import matplotlib.pyplot as plt\n",
    "#import numpy as np\n",
    "#import sklearn as skl\n",
    "# \n",
    "\n",
    "#plt.figure(figsize=[2, 2])\n",
    "G = nx.DiGraph()\n",
    "G.add_node(\"user\",  pos = (550,500) )\n",
    "G.add_node(\"system\",  pos = (-550,500) )\n",
    "G.add_node(\"program\",  pos = (-2000, 960) )\n",
    "G.add_node(\"syntax\",  pos = (2000, 950) )\n",
    "G.add_node(\"ado\", pos = (-3000, 550) )\n",
    "G.add_node(\"do\", pos = (3000, 550) )\n",
    "G.add_node(\"command\", pos = (-1900, 150) )\n",
    "G.add_node(\"queue\", pos = (1900, 150) )\n",
    "G.add_node(\"results\", pos = (0,0))\n",
    "G.add_node(\"dta\", pos = (0, -475))\n",
    "G.add_node(\"log\", pos = (-1900, -475))\n",
    "G.add_node(\"excel\", pos = (-4000, -475))\n",
    "G.add_node(\"word\", pos = (1900, -475))\n",
    "G.add_node(\"html\", pos = (4000, -475))\n",
    "G.add_node(\"publish\", pos = (0, -950))\n",
    "G.add_edges_from([ (\"program\",\"ado\"), (\"syntax\", \"do\")])\n",
    "G.add_edges_from([(\"ado\", \"command\"), (\"do\", \"queue\") ])\n",
    "G.add_edges_from([(\"command\", \"results\"), (\"queue\", \"results\"),(\"results\",\"excel\"),(\"results\",\"word\"),(\"results\",\"html\")])\n",
    "G.add_edges_from([(\"results\",\"dta\"),(\"results\",\"log\")])\n",
    "G.add_edges_from([(\"dta\",\"publish\"),(\"log\",\"publish\"),(\"excel\",\"publish\"),(\"word\",\"publish\"),(\"html\",\"publish\")])\n",
    "nx.draw(G, \n",
    "        nx.get_node_attributes(G, 'pos'), \n",
    "        with_labels=True, \n",
    "        font_weight='bold', \n",
    "        node_size = 4500,\n",
    "        node_color = \"lightblue\",\n",
    "        linewidths = 3)\n",
    "ax= plt.gca()\n",
    "ax.collections[0].set_edgecolor(\"#000000\")\n",
    "ax.set_xlim([-5000, 5000])\n",
    "ax.set_ylim([-1000, 1000])\n",
    "plt.show()"
   ]
  },
  {
   "attachments": {},
   "cell_type": "markdown",
   "metadata": {},
   "source": [
    "Results/Output\n",
    "   + A sequence or queue of instructions `commands + syntax = code` given to Stata via a do-file will generate results in Stata\n",
    "   + <u>Never</u> include results in your do-file when you share your work in this class and with future collaborators\n",
    "   + Due diligence in the `open-scientific` enterprise demands that others `reproduce` your results and findings\n",
    "   + Your duty is to share <u>only</u> the `input`, and ours is to reproduce your `output` so as to fullfil our shared Credo \n",
    "   + Please share your do-files and any third-party ado-files, if at all your script relies on third-party programs in your do-file     \n",
    "       \n",
    "Display/Files\n",
    "   + .xlsx\n",
    "   + .log\n",
    "   + .dta\n",
    "   + .docx\n",
    "   + [].html](https://jhustata.github.io/livre/dyndoc.html)\n",
    "   "
   ]
  },
  {
   "attachments": {},
   "cell_type": "markdown",
   "metadata": {},
   "source": [
    "## 2.1 xlsx"
   ]
  },
  {
   "attachments": {},
   "cell_type": "markdown",
   "metadata": {},
   "source": [
    "## 2.2 log"
   ]
  },
  {
   "attachments": {},
   "cell_type": "markdown",
   "metadata": {},
   "source": [
    "## 2.3 dta"
   ]
  },
  {
   "attachments": {},
   "cell_type": "markdown",
   "metadata": {},
   "source": [
    "## 2.4 docx"
   ]
  },
  {
   "attachments": {},
   "cell_type": "markdown",
   "metadata": {},
   "source": [
    "## 2.5 html"
   ]
  }
 ],
 "metadata": {
  "kernelspec": {
   "display_name": "Python 3",
   "language": "python",
   "name": "python3"
  },
  "language_info": {
   "codemirror_mode": {
    "name": "ipython",
    "version": 3
   },
   "file_extension": ".py",
   "mimetype": "text/x-python",
   "name": "python",
   "nbconvert_exporter": "python",
   "pygments_lexer": "ipython3",
   "version": "3.11.2"
  },
  "widgets": {
   "application/vnd.jupyter.widget-state+json": {
    "state": {},
    "version_major": 2,
    "version_minor": 0
   }
  }
 },
 "nbformat": 4,
 "nbformat_minor": 4
}
